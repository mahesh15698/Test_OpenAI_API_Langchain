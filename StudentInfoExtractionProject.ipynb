{
  "cells": [
    {
      "cell_type": "markdown",
      "metadata": {
        "id": "view-in-github",
        "colab_type": "text"
      },
      "source": [
        "<a href=\"https://colab.research.google.com/github/mahesh15698/Test_OpenAI_API_Langchain/blob/main/StudentInfoExtractionProject.ipynb\" target=\"_parent\"><img src=\"https://colab.research.google.com/assets/colab-badge.svg\" alt=\"Open In Colab\"/></a>"
      ]
    },
    {
      "cell_type": "markdown",
      "source": [
        "## Import Necessary Libraries"
      ],
      "metadata": {
        "id": "4vTCOC8pCeAB"
      },
      "id": "4vTCOC8pCeAB"
    },
    {
      "cell_type": "code",
      "execution_count": null,
      "id": "9eebdbdc-0b17-4a65-9e0b-e6f9d84a94a0",
      "metadata": {
        "id": "9eebdbdc-0b17-4a65-9e0b-e6f9d84a94a0"
      },
      "outputs": [],
      "source": [
        "import openai"
      ]
    },
    {
      "cell_type": "markdown",
      "source": [
        "## Create your OpenAI key use it over here"
      ],
      "metadata": {
        "id": "OKI7IF7NC-TH"
      },
      "id": "OKI7IF7NC-TH"
    },
    {
      "cell_type": "code",
      "execution_count": null,
      "id": "53b3b1bf-b021-46a2-8058-59c90f89a00a",
      "metadata": {
        "id": "53b3b1bf-b021-46a2-8058-59c90f89a00a"
      },
      "outputs": [],
      "source": [
        "mykey= \"Create Your own key follow please read.md file of this project to create OpenAI API key\""
      ]
    },
    {
      "cell_type": "code",
      "execution_count": null,
      "id": "e8a11022-86ac-477b-90b7-6a08abc047cf",
      "metadata": {
        "id": "e8a11022-86ac-477b-90b7-6a08abc047cf"
      },
      "outputs": [],
      "source": [
        "openai.api_key=mykey"
      ]
    },
    {
      "cell_type": "code",
      "execution_count": null,
      "id": "c1d4cffd-dff2-452d-998c-b97730c1838e",
      "metadata": {
        "id": "c1d4cffd-dff2-452d-998c-b97730c1838e"
      },
      "outputs": [],
      "source": [
        "all_models=openai.models.list()"
      ]
    },
    {
      "cell_type": "markdown",
      "source": [
        "## List of LLM models offered by OpenAI"
      ],
      "metadata": {
        "id": "7_NTFDQxC2UN"
      },
      "id": "7_NTFDQxC2UN"
    },
    {
      "cell_type": "code",
      "execution_count": null,
      "id": "ad8bc178-53b0-44c0-9f93-8e1a5b0ad47b",
      "metadata": {
        "id": "ad8bc178-53b0-44c0-9f93-8e1a5b0ad47b",
        "outputId": "11a27145-530a-44bd-e410-7a7bc848693a"
      },
      "outputs": [
        {
          "data": {
            "text/plain": [
              "[Model(id='gpt-3.5-turbo-0301', created=1677649963, object='model', owned_by='openai'),\n",
              " Model(id='text-embedding-3-large', created=1705953180, object='model', owned_by='system'),\n",
              " Model(id='dall-e-3', created=1698785189, object='model', owned_by='system'),\n",
              " Model(id='dall-e-2', created=1698798177, object='model', owned_by='system'),\n",
              " Model(id='text-embedding-ada-002', created=1671217299, object='model', owned_by='openai-internal'),\n",
              " Model(id='tts-1-hd-1106', created=1699053533, object='model', owned_by='system'),\n",
              " Model(id='tts-1-hd', created=1699046015, object='model', owned_by='system'),\n",
              " Model(id='davinci-002', created=1692634301, object='model', owned_by='system'),\n",
              " Model(id='babbage-002', created=1692634615, object='model', owned_by='system'),\n",
              " Model(id='text-embedding-3-small', created=1705948997, object='model', owned_by='system'),\n",
              " Model(id='gpt-3.5-turbo', created=1677610602, object='model', owned_by='openai'),\n",
              " Model(id='gpt-3.5-turbo-0613', created=1686587434, object='model', owned_by='openai'),\n",
              " Model(id='gpt-3.5-turbo-16k-0613', created=1685474247, object='model', owned_by='openai'),\n",
              " Model(id='whisper-1', created=1677532384, object='model', owned_by='openai-internal'),\n",
              " Model(id='gpt-3.5-turbo-1106', created=1698959748, object='model', owned_by='system'),\n",
              " Model(id='tts-1-1106', created=1699053241, object='model', owned_by='system'),\n",
              " Model(id='gpt-3.5-turbo-instruct', created=1692901427, object='model', owned_by='system'),\n",
              " Model(id='tts-1', created=1681940951, object='model', owned_by='openai-internal'),\n",
              " Model(id='gpt-3.5-turbo-instruct-0914', created=1694122472, object='model', owned_by='system'),\n",
              " Model(id='gpt-3.5-turbo-16k', created=1683758102, object='model', owned_by='openai-internal')]"
            ]
          },
          "execution_count": 5,
          "metadata": {},
          "output_type": "execute_result"
        }
      ],
      "source": [
        "list(all_models)"
      ]
    },
    {
      "cell_type": "code",
      "execution_count": null,
      "id": "bdc5d71d-1d86-4af4-a2e2-069b852e5d45",
      "metadata": {
        "id": "bdc5d71d-1d86-4af4-a2e2-069b852e5d45",
        "outputId": "43beffa7-f060-4fa0-d42b-76737170ff36"
      },
      "outputs": [
        {
          "data": {
            "text/html": [
              "<div>\n",
              "<style scoped>\n",
              "    .dataframe tbody tr th:only-of-type {\n",
              "        vertical-align: middle;\n",
              "    }\n",
              "\n",
              "    .dataframe tbody tr th {\n",
              "        vertical-align: top;\n",
              "    }\n",
              "\n",
              "    .dataframe thead th {\n",
              "        text-align: right;\n",
              "    }\n",
              "</style>\n",
              "<table border=\"1\" class=\"dataframe\">\n",
              "  <thead>\n",
              "    <tr style=\"text-align: right;\">\n",
              "      <th></th>\n",
              "      <th>id</th>\n",
              "      <th>created</th>\n",
              "      <th>object</th>\n",
              "      <th>owned_by</th>\n",
              "    </tr>\n",
              "  </thead>\n",
              "  <tbody>\n",
              "    <tr>\n",
              "      <th>0</th>\n",
              "      <td>(id, gpt-3.5-turbo-0301)</td>\n",
              "      <td>(created, 1677649963)</td>\n",
              "      <td>(object, model)</td>\n",
              "      <td>(owned_by, openai)</td>\n",
              "    </tr>\n",
              "    <tr>\n",
              "      <th>1</th>\n",
              "      <td>(id, text-embedding-3-large)</td>\n",
              "      <td>(created, 1705953180)</td>\n",
              "      <td>(object, model)</td>\n",
              "      <td>(owned_by, system)</td>\n",
              "    </tr>\n",
              "    <tr>\n",
              "      <th>2</th>\n",
              "      <td>(id, dall-e-3)</td>\n",
              "      <td>(created, 1698785189)</td>\n",
              "      <td>(object, model)</td>\n",
              "      <td>(owned_by, system)</td>\n",
              "    </tr>\n",
              "    <tr>\n",
              "      <th>3</th>\n",
              "      <td>(id, dall-e-2)</td>\n",
              "      <td>(created, 1698798177)</td>\n",
              "      <td>(object, model)</td>\n",
              "      <td>(owned_by, system)</td>\n",
              "    </tr>\n",
              "    <tr>\n",
              "      <th>4</th>\n",
              "      <td>(id, text-embedding-ada-002)</td>\n",
              "      <td>(created, 1671217299)</td>\n",
              "      <td>(object, model)</td>\n",
              "      <td>(owned_by, openai-internal)</td>\n",
              "    </tr>\n",
              "    <tr>\n",
              "      <th>5</th>\n",
              "      <td>(id, tts-1-hd-1106)</td>\n",
              "      <td>(created, 1699053533)</td>\n",
              "      <td>(object, model)</td>\n",
              "      <td>(owned_by, system)</td>\n",
              "    </tr>\n",
              "    <tr>\n",
              "      <th>6</th>\n",
              "      <td>(id, tts-1-hd)</td>\n",
              "      <td>(created, 1699046015)</td>\n",
              "      <td>(object, model)</td>\n",
              "      <td>(owned_by, system)</td>\n",
              "    </tr>\n",
              "    <tr>\n",
              "      <th>7</th>\n",
              "      <td>(id, davinci-002)</td>\n",
              "      <td>(created, 1692634301)</td>\n",
              "      <td>(object, model)</td>\n",
              "      <td>(owned_by, system)</td>\n",
              "    </tr>\n",
              "    <tr>\n",
              "      <th>8</th>\n",
              "      <td>(id, babbage-002)</td>\n",
              "      <td>(created, 1692634615)</td>\n",
              "      <td>(object, model)</td>\n",
              "      <td>(owned_by, system)</td>\n",
              "    </tr>\n",
              "    <tr>\n",
              "      <th>9</th>\n",
              "      <td>(id, text-embedding-3-small)</td>\n",
              "      <td>(created, 1705948997)</td>\n",
              "      <td>(object, model)</td>\n",
              "      <td>(owned_by, system)</td>\n",
              "    </tr>\n",
              "    <tr>\n",
              "      <th>10</th>\n",
              "      <td>(id, gpt-3.5-turbo)</td>\n",
              "      <td>(created, 1677610602)</td>\n",
              "      <td>(object, model)</td>\n",
              "      <td>(owned_by, openai)</td>\n",
              "    </tr>\n",
              "    <tr>\n",
              "      <th>11</th>\n",
              "      <td>(id, gpt-3.5-turbo-0613)</td>\n",
              "      <td>(created, 1686587434)</td>\n",
              "      <td>(object, model)</td>\n",
              "      <td>(owned_by, openai)</td>\n",
              "    </tr>\n",
              "    <tr>\n",
              "      <th>12</th>\n",
              "      <td>(id, gpt-3.5-turbo-16k-0613)</td>\n",
              "      <td>(created, 1685474247)</td>\n",
              "      <td>(object, model)</td>\n",
              "      <td>(owned_by, openai)</td>\n",
              "    </tr>\n",
              "    <tr>\n",
              "      <th>13</th>\n",
              "      <td>(id, whisper-1)</td>\n",
              "      <td>(created, 1677532384)</td>\n",
              "      <td>(object, model)</td>\n",
              "      <td>(owned_by, openai-internal)</td>\n",
              "    </tr>\n",
              "    <tr>\n",
              "      <th>14</th>\n",
              "      <td>(id, gpt-3.5-turbo-1106)</td>\n",
              "      <td>(created, 1698959748)</td>\n",
              "      <td>(object, model)</td>\n",
              "      <td>(owned_by, system)</td>\n",
              "    </tr>\n",
              "    <tr>\n",
              "      <th>15</th>\n",
              "      <td>(id, tts-1-1106)</td>\n",
              "      <td>(created, 1699053241)</td>\n",
              "      <td>(object, model)</td>\n",
              "      <td>(owned_by, system)</td>\n",
              "    </tr>\n",
              "    <tr>\n",
              "      <th>16</th>\n",
              "      <td>(id, gpt-3.5-turbo-instruct)</td>\n",
              "      <td>(created, 1692901427)</td>\n",
              "      <td>(object, model)</td>\n",
              "      <td>(owned_by, system)</td>\n",
              "    </tr>\n",
              "    <tr>\n",
              "      <th>17</th>\n",
              "      <td>(id, tts-1)</td>\n",
              "      <td>(created, 1681940951)</td>\n",
              "      <td>(object, model)</td>\n",
              "      <td>(owned_by, openai-internal)</td>\n",
              "    </tr>\n",
              "    <tr>\n",
              "      <th>18</th>\n",
              "      <td>(id, gpt-3.5-turbo-instruct-0914)</td>\n",
              "      <td>(created, 1694122472)</td>\n",
              "      <td>(object, model)</td>\n",
              "      <td>(owned_by, system)</td>\n",
              "    </tr>\n",
              "    <tr>\n",
              "      <th>19</th>\n",
              "      <td>(id, gpt-3.5-turbo-16k)</td>\n",
              "      <td>(created, 1683758102)</td>\n",
              "      <td>(object, model)</td>\n",
              "      <td>(owned_by, openai-internal)</td>\n",
              "    </tr>\n",
              "  </tbody>\n",
              "</table>\n",
              "</div>"
            ],
            "text/plain": [
              "                                   id                created           object  \\\n",
              "0            (id, gpt-3.5-turbo-0301)  (created, 1677649963)  (object, model)   \n",
              "1        (id, text-embedding-3-large)  (created, 1705953180)  (object, model)   \n",
              "2                      (id, dall-e-3)  (created, 1698785189)  (object, model)   \n",
              "3                      (id, dall-e-2)  (created, 1698798177)  (object, model)   \n",
              "4        (id, text-embedding-ada-002)  (created, 1671217299)  (object, model)   \n",
              "5                 (id, tts-1-hd-1106)  (created, 1699053533)  (object, model)   \n",
              "6                      (id, tts-1-hd)  (created, 1699046015)  (object, model)   \n",
              "7                   (id, davinci-002)  (created, 1692634301)  (object, model)   \n",
              "8                   (id, babbage-002)  (created, 1692634615)  (object, model)   \n",
              "9        (id, text-embedding-3-small)  (created, 1705948997)  (object, model)   \n",
              "10                (id, gpt-3.5-turbo)  (created, 1677610602)  (object, model)   \n",
              "11           (id, gpt-3.5-turbo-0613)  (created, 1686587434)  (object, model)   \n",
              "12       (id, gpt-3.5-turbo-16k-0613)  (created, 1685474247)  (object, model)   \n",
              "13                    (id, whisper-1)  (created, 1677532384)  (object, model)   \n",
              "14           (id, gpt-3.5-turbo-1106)  (created, 1698959748)  (object, model)   \n",
              "15                   (id, tts-1-1106)  (created, 1699053241)  (object, model)   \n",
              "16       (id, gpt-3.5-turbo-instruct)  (created, 1692901427)  (object, model)   \n",
              "17                        (id, tts-1)  (created, 1681940951)  (object, model)   \n",
              "18  (id, gpt-3.5-turbo-instruct-0914)  (created, 1694122472)  (object, model)   \n",
              "19            (id, gpt-3.5-turbo-16k)  (created, 1683758102)  (object, model)   \n",
              "\n",
              "                       owned_by  \n",
              "0            (owned_by, openai)  \n",
              "1            (owned_by, system)  \n",
              "2            (owned_by, system)  \n",
              "3            (owned_by, system)  \n",
              "4   (owned_by, openai-internal)  \n",
              "5            (owned_by, system)  \n",
              "6            (owned_by, system)  \n",
              "7            (owned_by, system)  \n",
              "8            (owned_by, system)  \n",
              "9            (owned_by, system)  \n",
              "10           (owned_by, openai)  \n",
              "11           (owned_by, openai)  \n",
              "12           (owned_by, openai)  \n",
              "13  (owned_by, openai-internal)  \n",
              "14           (owned_by, system)  \n",
              "15           (owned_by, system)  \n",
              "16           (owned_by, system)  \n",
              "17  (owned_by, openai-internal)  \n",
              "18           (owned_by, system)  \n",
              "19  (owned_by, openai-internal)  "
            ]
          },
          "execution_count": 6,
          "metadata": {},
          "output_type": "execute_result"
        }
      ],
      "source": [
        "import pandas as pd\n",
        "pd.DataFrame(list(all_models),columns=[\"id\",\"created\",\"object\",\"owned_by\"])"
      ]
    },
    {
      "cell_type": "markdown",
      "source": [
        "## Simple Example of using OpenAI text generation using gpt 3.5 turbo"
      ],
      "metadata": {
        "id": "I0qY6o6PDP4_"
      },
      "id": "I0qY6o6PDP4_"
    },
    {
      "cell_type": "code",
      "execution_count": null,
      "id": "ee1b7550-5b68-44f2-a582-d584e00b6b99",
      "metadata": {
        "id": "ee1b7550-5b68-44f2-a582-d584e00b6b99"
      },
      "outputs": [],
      "source": [
        "# This code is for v1 of the openai package: pypi.org/project/openai\n",
        "from openai import OpenAI\n",
        "client = OpenAI(api_key=mykey)"
      ]
    },
    {
      "cell_type": "code",
      "execution_count": null,
      "id": "fb94d1d0-4a8b-4f3a-a9fe-ad2b8612a916",
      "metadata": {
        "id": "fb94d1d0-4a8b-4f3a-a9fe-ad2b8612a916",
        "outputId": "b30bcc59-30ea-4a23-a483-93f9be035b77"
      },
      "outputs": [
        {
          "data": {
            "text/plain": [
              "<openai.OpenAI at 0x1163a2385b0>"
            ]
          },
          "execution_count": 12,
          "metadata": {},
          "output_type": "execute_result"
        }
      ],
      "source": [
        "client"
      ]
    },
    {
      "cell_type": "code",
      "execution_count": null,
      "id": "dcbdb257-7ab1-4b2a-bef2-d17450faadbc",
      "metadata": {
        "id": "dcbdb257-7ab1-4b2a-bef2-d17450faadbc"
      },
      "outputs": [],
      "source": [
        "response = client.chat.completions.create(\n",
        "    model=\"gpt-3.5-turbo\",\n",
        "    messages=[\n",
        "    {\n",
        "      \"role\": \"user\",\n",
        "      \"content\": \"who won the first cricket worldcup?\"\n",
        "    }\n",
        "      ]\n",
        ")"
      ]
    },
    {
      "cell_type": "code",
      "execution_count": null,
      "id": "75abf1c9-45bc-46c6-8edf-c1a328030057",
      "metadata": {
        "id": "75abf1c9-45bc-46c6-8edf-c1a328030057",
        "outputId": "7fef032e-e84c-49a4-d411-86635556e075"
      },
      "outputs": [
        {
          "data": {
            "text/plain": [
              "ChatCompletion(id='chatcmpl-8msjiWT1L8A515dYAxV0sWbol466p', choices=[Choice(finish_reason='stop', index=0, logprobs=None, message=ChatCompletionMessage(content='The first cricket World Cup was won by the West Indies in 1975.', role='assistant', function_call=None, tool_calls=None))], created=1706660842, model='gpt-3.5-turbo-0613', object='chat.completion', system_fingerprint=None, usage=CompletionUsage(completion_tokens=16, prompt_tokens=15, total_tokens=31))"
            ]
          },
          "execution_count": 14,
          "metadata": {},
          "output_type": "execute_result"
        }
      ],
      "source": [
        "response"
      ]
    },
    {
      "cell_type": "code",
      "execution_count": null,
      "id": "0de83bc7-3d7a-457e-b20b-5e6c12c0cb60",
      "metadata": {
        "id": "0de83bc7-3d7a-457e-b20b-5e6c12c0cb60",
        "outputId": "1a6b38b4-d8a4-4e7e-b427-8a2fa41a87ad"
      },
      "outputs": [
        {
          "data": {
            "text/plain": [
              "'The first cricket World Cup was won by the West Indies in 1975.'"
            ]
          },
          "execution_count": 20,
          "metadata": {},
          "output_type": "execute_result"
        }
      ],
      "source": [
        "response.choices[0].message.content"
      ]
    },
    {
      "cell_type": "markdown",
      "id": "096c0045-3c29-4192-b868-5ff9048aa5f7",
      "metadata": {
        "id": "096c0045-3c29-4192-b868-5ff9048aa5f7"
      },
      "source": [
        "## Simple Example Few Prompt Sentence"
      ]
    },
    {
      "cell_type": "code",
      "execution_count": null,
      "id": "870ffa47-5bb2-46e8-80e4-8ba57d6a7999",
      "metadata": {
        "id": "870ffa47-5bb2-46e8-80e4-8ba57d6a7999"
      },
      "outputs": [],
      "source": [
        "student_description = \"Mahesh Jadhav is a student of Data science at Pace University. He is an indian and has a 3.93 GPA. Mahesh is known for his programming skills and is an active member of the college's AI Club. He hopes to pursue a career in artificial intelligence after graduating.\""
      ]
    },
    {
      "cell_type": "code",
      "execution_count": null,
      "id": "799172e6-944c-4cc5-aac2-7c64db5094fc",
      "metadata": {
        "id": "799172e6-944c-4cc5-aac2-7c64db5094fc"
      },
      "outputs": [],
      "source": [
        "# A simple prompt to extract information from \"student_description\" in a JSON format.\n",
        "prompt = f'''\n",
        "Please extract the following information from the given text and return it as a JSON object:\n",
        "\n",
        "name\n",
        "college\n",
        "grades\n",
        "club\n",
        "\n",
        "This is the body of text to extract the information from:\n",
        "{student_description}\n",
        "'''"
      ]
    },
    {
      "cell_type": "code",
      "execution_count": null,
      "id": "d70ddd7a-1959-47ac-a88b-7d5eb597e5d9",
      "metadata": {
        "id": "d70ddd7a-1959-47ac-a88b-7d5eb597e5d9",
        "outputId": "b599bf4d-811c-4374-bf7f-d75e081c4a42"
      },
      "outputs": [
        {
          "data": {
            "text/plain": [
              "\"Mahesh Jadhav is a student of Data science at Pace University. He is an indian and has a 3.93 GPA. Mahesh is known for his programming skills and is an active member of the college's AI Club. He hopes to pursue a career in artificial intelligence after graduating.\""
            ]
          },
          "execution_count": 24,
          "metadata": {},
          "output_type": "execute_result"
        }
      ],
      "source": [
        "student_description"
      ]
    },
    {
      "cell_type": "code",
      "execution_count": null,
      "id": "c4f08c6e-ab56-4fa1-87c5-8c5711733618",
      "metadata": {
        "id": "c4f08c6e-ab56-4fa1-87c5-8c5711733618",
        "outputId": "280acb17-3b89-4975-cb81-86373e0d6539"
      },
      "outputs": [
        {
          "data": {
            "text/plain": [
              "<openai.OpenAI at 0x1163a2385b0>"
            ]
          },
          "execution_count": 25,
          "metadata": {},
          "output_type": "execute_result"
        }
      ],
      "source": [
        "client"
      ]
    },
    {
      "cell_type": "code",
      "execution_count": null,
      "id": "3e799e01-31df-4606-a852-2e872f4172c0",
      "metadata": {
        "id": "3e799e01-31df-4606-a852-2e872f4172c0"
      },
      "outputs": [],
      "source": [
        "response = client.chat.completions.create(\n",
        "    model=\"gpt-3.5-turbo\",\n",
        "    messages=[\n",
        "    {\n",
        "      \"role\": \"user\",\n",
        "      \"content\": prompt\n",
        "    }\n",
        "      ]\n",
        ")"
      ]
    },
    {
      "cell_type": "code",
      "execution_count": null,
      "id": "6559051e-0f3a-44f1-a41b-3532b22b3562",
      "metadata": {
        "id": "6559051e-0f3a-44f1-a41b-3532b22b3562",
        "outputId": "63aabb84-4c86-44f4-8bec-f4a1af2c589e"
      },
      "outputs": [
        {
          "data": {
            "text/plain": [
              "'{\\n  \"name\": \"Mahesh Jadhav\",\\n  \"college\": \"Pace University\",\\n  \"grades\": \"3.93 GPA\",\\n  \"club\": \"AI Club\"\\n}'"
            ]
          },
          "execution_count": 31,
          "metadata": {},
          "output_type": "execute_result"
        }
      ],
      "source": [
        "response.choices[0].message.content"
      ]
    },
    {
      "cell_type": "code",
      "execution_count": null,
      "id": "939c77ae-0165-4533-9072-99b760a9dd92",
      "metadata": {
        "id": "939c77ae-0165-4533-9072-99b760a9dd92"
      },
      "outputs": [],
      "source": [
        "import json"
      ]
    },
    {
      "cell_type": "code",
      "execution_count": null,
      "id": "8ea1549b-71e8-4592-a9ad-b803676388b3",
      "metadata": {
        "id": "8ea1549b-71e8-4592-a9ad-b803676388b3"
      },
      "outputs": [],
      "source": [
        "info= json.loads(response.choices[0].message.content)"
      ]
    },
    {
      "cell_type": "code",
      "execution_count": null,
      "id": "82eba8a6-9ab4-4428-8806-8e35c6796a72",
      "metadata": {
        "id": "82eba8a6-9ab4-4428-8806-8e35c6796a72",
        "outputId": "d2d08966-e820-4be1-f0fb-2d46433cd01b"
      },
      "outputs": [
        {
          "data": {
            "text/plain": [
              "{'name': 'Mahesh Jadhav',\n",
              " 'college': 'Pace University',\n",
              " 'grades': '3.93 GPA',\n",
              " 'club': 'AI Club'}"
            ]
          },
          "execution_count": 34,
          "metadata": {},
          "output_type": "execute_result"
        }
      ],
      "source": [
        "info"
      ]
    },
    {
      "cell_type": "markdown",
      "source": [
        "## Lets Explore Function call parameter for this problem to extract multiple students data"
      ],
      "metadata": {
        "id": "kdq8W0OgDpU1"
      },
      "id": "kdq8W0OgDpU1"
    },
    {
      "cell_type": "code",
      "execution_count": null,
      "id": "d2870c53-5ea0-49a3-9d51-859551b97a72",
      "metadata": {
        "id": "d2870c53-5ea0-49a3-9d51-859551b97a72"
      },
      "outputs": [],
      "source": [
        "student_custom_function = [\n",
        "    {\n",
        "        'name': 'extract_student_info',\n",
        "        'description': 'Get the student information from the body of the input text',\n",
        "        'parameters': {\n",
        "            'type': 'object',\n",
        "            'properties': {\n",
        "                'name': {\n",
        "                    'type': 'string',\n",
        "                    'description': 'Name of the person'\n",
        "                },\n",
        "                'college': {\n",
        "                    'type': 'string',\n",
        "                    'description': 'The college name.'\n",
        "                },\n",
        "                'grades': {\n",
        "                    'type': 'integer',\n",
        "                    'description': 'CGPA of the student.'\n",
        "                },\n",
        "                'club': {\n",
        "                    'type': 'string',\n",
        "                    'description': 'college club for extracurricular activities. '\n",
        "                }\n",
        "\n",
        "            }\n",
        "        }\n",
        "    }\n",
        "]"
      ]
    },
    {
      "cell_type": "code",
      "execution_count": null,
      "id": "554abed0-34d2-4ea0-8ccf-01ada24d2901",
      "metadata": {
        "id": "554abed0-34d2-4ea0-8ccf-01ada24d2901"
      },
      "outputs": [],
      "source": [
        "response2 = client.chat.completions.create(\n",
        "    model=\"gpt-3.5-turbo\",\n",
        "    messages=[{\"role\": \"user\", \"content\": prompt }],\n",
        "    functions=student_custom_function\n",
        ")"
      ]
    },
    {
      "cell_type": "code",
      "execution_count": null,
      "id": "87144065-c4a6-438f-98e2-d298974df13e",
      "metadata": {
        "id": "87144065-c4a6-438f-98e2-d298974df13e",
        "outputId": "c60c28d2-535d-4f14-c60f-82fcb752a448"
      },
      "outputs": [
        {
          "data": {
            "text/plain": [
              "'{\\n  \"name\": \"Mahesh Jadhav\",\\n  \"college\": \"Pace University\",\\n  \"grades\": 3.93,\\n  \"club\": \"AI Club\"\\n}'"
            ]
          },
          "execution_count": 37,
          "metadata": {},
          "output_type": "execute_result"
        }
      ],
      "source": [
        "response2.choices[0].message.function_call.arguments"
      ]
    },
    {
      "cell_type": "code",
      "execution_count": null,
      "id": "cc078e8d-9873-45f8-8606-dc5ec721c9e8",
      "metadata": {
        "id": "cc078e8d-9873-45f8-8606-dc5ec721c9e8",
        "outputId": "03899f6a-3601-49db-fe38-111bca240e26"
      },
      "outputs": [
        {
          "data": {
            "text/plain": [
              "{'name': 'Mahesh Jadhav',\n",
              " 'college': 'Pace University',\n",
              " 'grades': 3.93,\n",
              " 'club': 'AI Club'}"
            ]
          },
          "execution_count": 38,
          "metadata": {},
          "output_type": "execute_result"
        }
      ],
      "source": [
        "json.loads(response2.choices[0].message.function_call.arguments)"
      ]
    },
    {
      "cell_type": "code",
      "execution_count": null,
      "id": "3fab2d00-04fd-4eeb-8ba3-b1855aff9846",
      "metadata": {
        "id": "3fab2d00-04fd-4eeb-8ba3-b1855aff9846"
      },
      "outputs": [],
      "source": [
        "student2=\"Rasika Gulhane is a student of computer science at Pace University New York. She is an indian and has a 4.00 GPA. Rasika is known for her programming skills and is an active member of the college's data science Club. She hopes to pursue a career in artificial intelligence after graduating.\""
      ]
    },
    {
      "cell_type": "code",
      "execution_count": null,
      "id": "557e6fb3-4b31-4dc7-8de7-99cd3bdd2c50",
      "metadata": {
        "id": "557e6fb3-4b31-4dc7-8de7-99cd3bdd2c50"
      },
      "outputs": [],
      "source": [
        "student3=\"Chaitanya Dave is a student of Data science at Pace University New York. He is an indian and has a 3.90 GPA. Chaitanya is known for his programming skills and is an active member of the college's MLops Club. He hopes to pursue a career in artificial intelligence after graduating.\""
      ]
    },
    {
      "cell_type": "code",
      "execution_count": null,
      "id": "166abff5-dd7b-487f-a421-821e46552964",
      "metadata": {
        "id": "166abff5-dd7b-487f-a421-821e46552964",
        "outputId": "0a1f37bc-168f-4ccc-8ff6-48b5f43d4390"
      },
      "outputs": [
        {
          "name": "stdout",
          "output_type": "stream",
          "text": [
            "Mahesh Jadhav is a student of Data science at Pace University. He is an indian and has a 3.93 GPA. Mahesh is known for his programming skills and is an active member of the college's AI Club. He hopes to pursue a career in artificial intelligence after graduating.\n",
            "Rasika Gulhane is a student of computer science at Pace University New York. She is an indian and has a 4.00 GPA. Rasika is known for her programming skills and is an active member of the college's data science Club. She hopes to pursue a career in artificial intelligence after graduating.\n",
            "Chaitanya Dave is a student of Data science at Pace University New York. He is an indian and has a 3.90 GPA. Chaitanya is known for his programming skills and is an active member of the college's MLops Club. He hopes to pursue a career in artificial intelligence after graduating.\n"
          ]
        }
      ],
      "source": [
        "student_info = [student_description, student2,student3]\n",
        "for student in student_info:\n",
        "    print(student)"
      ]
    },
    {
      "cell_type": "markdown",
      "source": [
        "## Final code implementation"
      ],
      "metadata": {
        "id": "itwo5gr_EAgK"
      },
      "id": "itwo5gr_EAgK"
    },
    {
      "cell_type": "code",
      "execution_count": null,
      "id": "71634af6-26ac-4afe-9daf-d5e00b19298d",
      "metadata": {
        "id": "71634af6-26ac-4afe-9daf-d5e00b19298d",
        "outputId": "c7599f04-4968-43ea-c16d-cc4c93de99dd"
      },
      "outputs": [
        {
          "name": "stdout",
          "output_type": "stream",
          "text": [
            "{'name': 'Mahesh Jadhav', 'college': 'Pace University', 'grades': 3.93, 'club': 'AI Club'}\n",
            "{'name': 'Rasika Gulhane', 'college': 'Pace University New York', 'grades': 4.0, 'club': 'Data Science Club'}\n",
            "{'name': 'Chaitanya Dave', 'college': 'Pace University New York', 'grades': 3.9, 'club': 'MLops Club'}\n"
          ]
        }
      ],
      "source": [
        "import json\n",
        "student_info = [student_description, student2,student3]\n",
        "for student in student_info:\n",
        "    response =  client.chat.completions.create(\n",
        "        model = 'gpt-3.5-turbo',\n",
        "        messages = [{'role': 'user', 'content': student}],\n",
        "        functions = student_custom_function,\n",
        "        function_call = 'auto'\n",
        "    )\n",
        "\n",
        "    response = json.loads(response.choices[0].message.function_call.arguments)\n",
        "    print(response)#import csv"
      ]
    }
  ],
  "metadata": {
    "kernelspec": {
      "display_name": "Python 3 (ipykernel)",
      "language": "python",
      "name": "python3"
    },
    "language_info": {
      "codemirror_mode": {
        "name": "ipython",
        "version": 3
      },
      "file_extension": ".py",
      "mimetype": "text/x-python",
      "name": "python",
      "nbconvert_exporter": "python",
      "pygments_lexer": "ipython3",
      "version": "3.8.0"
    },
    "colab": {
      "provenance": [],
      "include_colab_link": true
    }
  },
  "nbformat": 4,
  "nbformat_minor": 5
}