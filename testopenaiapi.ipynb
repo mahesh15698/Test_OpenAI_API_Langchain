{
  "cells": [
    {
      "cell_type": "markdown",
      "metadata": {
        "id": "view-in-github",
        "colab_type": "text"
      },
      "source": [
        "<a href=\"https://colab.research.google.com/github/mahesh15698/Test_OpenAI_API_Langchain/blob/main/testopenaiapi.ipynb\" target=\"_parent\"><img src=\"https://colab.research.google.com/assets/colab-badge.svg\" alt=\"Open In Colab\"/></a>"
      ]
    },
    {
      "cell_type": "code",
      "source": [
        "!pip install openai"
      ],
      "metadata": {
        "id": "bgwCNQm9WdKj",
        "outputId": "2c99e094-b5f8-48d2-851e-228b93567ec5",
        "colab": {
          "base_uri": "https://localhost:8080/"
        }
      },
      "id": "bgwCNQm9WdKj",
      "execution_count": 2,
      "outputs": [
        {
          "output_type": "stream",
          "name": "stdout",
          "text": [
            "Collecting openai\n",
            "  Downloading openai-1.10.0-py3-none-any.whl (225 kB)\n",
            "\u001b[?25l     \u001b[90m━━━━━━━━━━━━━━━━━━━━━━━━━━━━━━━━━━━━━━━━\u001b[0m \u001b[32m0.0/225.1 kB\u001b[0m \u001b[31m?\u001b[0m eta \u001b[36m-:--:--\u001b[0m\r\u001b[2K     \u001b[91m━━━━━━━━━━━━━━━━━━━━━━━━━━━━━\u001b[0m\u001b[90m╺\u001b[0m\u001b[90m━━━━━━━━━━\u001b[0m \u001b[32m163.8/225.1 kB\u001b[0m \u001b[31m4.6 MB/s\u001b[0m eta \u001b[36m0:00:01\u001b[0m\r\u001b[2K     \u001b[90m━━━━━━━━━━━━━━━━━━━━━━━━━━━━━━━━━━━━━━━━\u001b[0m \u001b[32m225.1/225.1 kB\u001b[0m \u001b[31m5.1 MB/s\u001b[0m eta \u001b[36m0:00:00\u001b[0m\n",
            "\u001b[?25hRequirement already satisfied: anyio<5,>=3.5.0 in /usr/local/lib/python3.10/dist-packages (from openai) (3.7.1)\n",
            "Requirement already satisfied: distro<2,>=1.7.0 in /usr/lib/python3/dist-packages (from openai) (1.7.0)\n",
            "Collecting httpx<1,>=0.23.0 (from openai)\n",
            "  Downloading httpx-0.26.0-py3-none-any.whl (75 kB)\n",
            "\u001b[2K     \u001b[90m━━━━━━━━━━━━━━━━━━━━━━━━━━━━━━━━━━━━━━━━\u001b[0m \u001b[32m75.9/75.9 kB\u001b[0m \u001b[31m13.3 MB/s\u001b[0m eta \u001b[36m0:00:00\u001b[0m\n",
            "\u001b[?25hRequirement already satisfied: pydantic<3,>=1.9.0 in /usr/local/lib/python3.10/dist-packages (from openai) (1.10.14)\n",
            "Requirement already satisfied: sniffio in /usr/local/lib/python3.10/dist-packages (from openai) (1.3.0)\n",
            "Requirement already satisfied: tqdm>4 in /usr/local/lib/python3.10/dist-packages (from openai) (4.66.1)\n",
            "Collecting typing-extensions<5,>=4.7 (from openai)\n",
            "  Downloading typing_extensions-4.9.0-py3-none-any.whl (32 kB)\n",
            "Requirement already satisfied: idna>=2.8 in /usr/local/lib/python3.10/dist-packages (from anyio<5,>=3.5.0->openai) (3.6)\n",
            "Requirement already satisfied: exceptiongroup in /usr/local/lib/python3.10/dist-packages (from anyio<5,>=3.5.0->openai) (1.2.0)\n",
            "Requirement already satisfied: certifi in /usr/local/lib/python3.10/dist-packages (from httpx<1,>=0.23.0->openai) (2023.11.17)\n",
            "Collecting httpcore==1.* (from httpx<1,>=0.23.0->openai)\n",
            "  Downloading httpcore-1.0.2-py3-none-any.whl (76 kB)\n",
            "\u001b[2K     \u001b[90m━━━━━━━━━━━━━━━━━━━━━━━━━━━━━━━━━━━━━━━━\u001b[0m \u001b[32m76.9/76.9 kB\u001b[0m \u001b[31m12.7 MB/s\u001b[0m eta \u001b[36m0:00:00\u001b[0m\n",
            "\u001b[?25hCollecting h11<0.15,>=0.13 (from httpcore==1.*->httpx<1,>=0.23.0->openai)\n",
            "  Downloading h11-0.14.0-py3-none-any.whl (58 kB)\n",
            "\u001b[2K     \u001b[90m━━━━━━━━━━━━━━━━━━━━━━━━━━━━━━━━━━━━━━━━\u001b[0m \u001b[32m58.3/58.3 kB\u001b[0m \u001b[31m9.8 MB/s\u001b[0m eta \u001b[36m0:00:00\u001b[0m\n",
            "\u001b[?25hInstalling collected packages: typing-extensions, h11, httpcore, httpx, openai\n",
            "  Attempting uninstall: typing-extensions\n",
            "    Found existing installation: typing_extensions 4.5.0\n",
            "    Uninstalling typing_extensions-4.5.0:\n",
            "      Successfully uninstalled typing_extensions-4.5.0\n",
            "\u001b[31mERROR: pip's dependency resolver does not currently take into account all the packages that are installed. This behaviour is the source of the following dependency conflicts.\n",
            "llmx 0.0.15a0 requires cohere, which is not installed.\n",
            "llmx 0.0.15a0 requires tiktoken, which is not installed.\n",
            "tensorflow-probability 0.22.0 requires typing-extensions<4.6.0, but you have typing-extensions 4.9.0 which is incompatible.\u001b[0m\u001b[31m\n",
            "\u001b[0mSuccessfully installed h11-0.14.0 httpcore-1.0.2 httpx-0.26.0 openai-1.10.0 typing-extensions-4.9.0\n"
          ]
        }
      ]
    },
    {
      "cell_type": "code",
      "execution_count": 3,
      "id": "cdaa87cd-c938-4388-a39f-4d70e7c04767",
      "metadata": {
        "id": "cdaa87cd-c938-4388-a39f-4d70e7c04767"
      },
      "outputs": [],
      "source": [
        "import openai"
      ]
    },
    {
      "cell_type": "markdown",
      "id": "8e14852b-2c12-4509-8a61-c7e938512d2d",
      "metadata": {
        "id": "8e14852b-2c12-4509-8a61-c7e938512d2d"
      },
      "source": [
        "# 1. What is OpenAI API?\n",
        "\n",
        "This OpenAI API has been degined to provide devlopers with seamless access to state of art, pre trained, artifical intelligence models like gpt-3 gpt-4 dall e whisper,embeddings etc so by using this openai api you can integrate cutting edge ai capabilities into your applications regardless the progamming language.\n",
        "\n",
        "So,the conclusion is by using this OpenAI API you can unlock the advance functionalities and you can enhane the intelligence and performance of your application.\n"
      ]
    },
    {
      "cell_type": "markdown",
      "id": "0b0af1e5-9936-4b69-b57a-4f9122f7e3de",
      "metadata": {
        "id": "0b0af1e5-9936-4b69-b57a-4f9122f7e3de"
      },
      "source": [
        "# 2. Generatate OpenAI API key"
      ]
    },
    {
      "cell_type": "code",
      "execution_count": null,
      "id": "c0c5ee2a-47db-458d-bb9e-334762b83828",
      "metadata": {
        "id": "c0c5ee2a-47db-458d-bb9e-334762b83828"
      },
      "outputs": [],
      "source": [
        "mykey=\"GenarateKeyFromOpenAIand paste it over here\""
      ]
    },
    {
      "cell_type": "code",
      "execution_count": null,
      "id": "94dbffe3-e630-4649-bdd8-6585406726dc",
      "metadata": {
        "id": "94dbffe3-e630-4649-bdd8-6585406726dc"
      },
      "outputs": [],
      "source": [
        "openai.api_key=mykey"
      ]
    },
    {
      "cell_type": "code",
      "execution_count": null,
      "id": "3fe81bf9-6c78-4078-8cc6-1ea270da78be",
      "metadata": {
        "id": "3fe81bf9-6c78-4078-8cc6-1ea270da78be"
      },
      "outputs": [],
      "source": [
        "all_models=openai.models.list()"
      ]
    },
    {
      "cell_type": "code",
      "execution_count": null,
      "id": "a47dff0d-8772-4c9b-9e58-01fdb8bb1749",
      "metadata": {
        "id": "a47dff0d-8772-4c9b-9e58-01fdb8bb1749",
        "outputId": "9d5ad0b2-b7bd-4ce2-c4da-1b263bc5298f"
      },
      "outputs": [
        {
          "data": {
            "text/plain": [
              "[Model(id='text-search-babbage-doc-001', created=1651172509, object='model', owned_by='openai-dev'),\n",
              " Model(id='curie-search-query', created=1651172509, object='model', owned_by='openai-dev'),\n",
              " Model(id='text-davinci-003', created=1669599635, object='model', owned_by='openai-internal'),\n",
              " Model(id='text-search-babbage-query-001', created=1651172509, object='model', owned_by='openai-dev'),\n",
              " Model(id='babbage', created=1649358449, object='model', owned_by='openai'),\n",
              " Model(id='babbage-search-query', created=1651172509, object='model', owned_by='openai-dev'),\n",
              " Model(id='text-babbage-001', created=1649364043, object='model', owned_by='openai'),\n",
              " Model(id='text-similarity-davinci-001', created=1651172505, object='model', owned_by='openai-dev'),\n",
              " Model(id='davinci-similarity', created=1651172509, object='model', owned_by='openai-dev'),\n",
              " Model(id='code-davinci-edit-001', created=1649880484, object='model', owned_by='openai'),\n",
              " Model(id='curie-similarity', created=1651172510, object='model', owned_by='openai-dev'),\n",
              " Model(id='babbage-search-document', created=1651172510, object='model', owned_by='openai-dev'),\n",
              " Model(id='curie-instruct-beta', created=1649364042, object='model', owned_by='openai'),\n",
              " Model(id='text-search-ada-doc-001', created=1651172507, object='model', owned_by='openai-dev'),\n",
              " Model(id='davinci-instruct-beta', created=1649364042, object='model', owned_by='openai'),\n",
              " Model(id='gpt-3.5-turbo-instruct', created=1692901427, object='model', owned_by='system'),\n",
              " Model(id='text-similarity-babbage-001', created=1651172505, object='model', owned_by='openai-dev'),\n",
              " Model(id='text-search-davinci-doc-001', created=1651172505, object='model', owned_by='openai-dev'),\n",
              " Model(id='babbage-similarity', created=1651172505, object='model', owned_by='openai-dev'),\n",
              " Model(id='text-embedding-ada-002', created=1671217299, object='model', owned_by='openai-internal'),\n",
              " Model(id='davinci-search-query', created=1651172505, object='model', owned_by='openai-dev'),\n",
              " Model(id='text-similarity-curie-001', created=1651172507, object='model', owned_by='openai-dev'),\n",
              " Model(id='text-davinci-001', created=1649364042, object='model', owned_by='openai'),\n",
              " Model(id='gpt-3.5-turbo-instruct-0914', created=1694122472, object='model', owned_by='system'),\n",
              " Model(id='text-search-davinci-query-001', created=1651172505, object='model', owned_by='openai-dev'),\n",
              " Model(id='ada-search-document', created=1651172507, object='model', owned_by='openai-dev'),\n",
              " Model(id='ada-code-search-code', created=1651172505, object='model', owned_by='openai-dev'),\n",
              " Model(id='babbage-002', created=1692634615, object='model', owned_by='system'),\n",
              " Model(id='davinci-002', created=1692634301, object='model', owned_by='system'),\n",
              " Model(id='gpt-3.5-turbo-0613', created=1686587434, object='model', owned_by='openai'),\n",
              " Model(id='davinci-search-document', created=1651172509, object='model', owned_by='openai-dev'),\n",
              " Model(id='curie-search-document', created=1651172508, object='model', owned_by='openai-dev'),\n",
              " Model(id='babbage-code-search-code', created=1651172509, object='model', owned_by='openai-dev'),\n",
              " Model(id='text-search-ada-query-001', created=1651172505, object='model', owned_by='openai-dev'),\n",
              " Model(id='code-search-ada-text-001', created=1651172507, object='model', owned_by='openai-dev'),\n",
              " Model(id='babbage-code-search-text', created=1651172509, object='model', owned_by='openai-dev'),\n",
              " Model(id='gpt-3.5-turbo-0301', created=1677649963, object='model', owned_by='openai'),\n",
              " Model(id='code-search-babbage-code-001', created=1651172507, object='model', owned_by='openai-dev'),\n",
              " Model(id='ada-search-query', created=1651172505, object='model', owned_by='openai-dev'),\n",
              " Model(id='gpt-3.5-turbo', created=1677610602, object='model', owned_by='openai'),\n",
              " Model(id='ada-code-search-text', created=1651172510, object='model', owned_by='openai-dev'),\n",
              " Model(id='gpt-4-0613', created=1686588896, object='model', owned_by='openai'),\n",
              " Model(id='tts-1-hd', created=1699046015, object='model', owned_by='system'),\n",
              " Model(id='gpt-3.5-turbo-16k-0613', created=1685474247, object='model', owned_by='openai'),\n",
              " Model(id='text-search-curie-query-001', created=1651172509, object='model', owned_by='openai-dev'),\n",
              " Model(id='text-davinci-002', created=1649880484, object='model', owned_by='openai'),\n",
              " Model(id='text-davinci-edit-001', created=1649809179, object='model', owned_by='openai'),\n",
              " Model(id='code-search-babbage-text-001', created=1651172507, object='model', owned_by='openai-dev'),\n",
              " Model(id='ada', created=1649357491, object='model', owned_by='openai'),\n",
              " Model(id='text-ada-001', created=1649364042, object='model', owned_by='openai'),\n",
              " Model(id='ada-similarity', created=1651172507, object='model', owned_by='openai-dev'),\n",
              " Model(id='code-search-ada-code-001', created=1651172507, object='model', owned_by='openai-dev'),\n",
              " Model(id='text-similarity-ada-001', created=1651172505, object='model', owned_by='openai-dev'),\n",
              " Model(id='gpt-3.5-turbo-16k', created=1683758102, object='model', owned_by='openai-internal'),\n",
              " Model(id='gpt-4', created=1687882411, object='model', owned_by='openai'),\n",
              " Model(id='text-search-curie-doc-001', created=1651172509, object='model', owned_by='openai-dev'),\n",
              " Model(id='gpt-3.5-turbo-1106', created=1698959748, object='model', owned_by='system'),\n",
              " Model(id='gpt-4-1106-preview', created=1698957206, object='model', owned_by='system'),\n",
              " Model(id='gpt-4-vision-preview', created=1698894917, object='model', owned_by='system'),\n",
              " Model(id='text-curie-001', created=1649364043, object='model', owned_by='openai'),\n",
              " Model(id='curie', created=1649359874, object='model', owned_by='openai'),\n",
              " Model(id='tts-1', created=1681940951, object='model', owned_by='openai-internal'),\n",
              " Model(id='whisper-1', created=1677532384, object='model', owned_by='openai-internal'),\n",
              " Model(id='gpt-4-0314', created=1687882410, object='model', owned_by='openai'),\n",
              " Model(id='davinci', created=1649359874, object='model', owned_by='openai'),\n",
              " Model(id='dall-e-2', created=1698798177, object='model', owned_by='system'),\n",
              " Model(id='tts-1-1106', created=1699053241, object='model', owned_by='system'),\n",
              " Model(id='tts-1-hd-1106', created=1699053533, object='model', owned_by='system'),\n",
              " Model(id='dall-e-3', created=1698785189, object='model', owned_by='system')]"
            ]
          },
          "execution_count": 9,
          "metadata": {},
          "output_type": "execute_result"
        }
      ],
      "source": [
        "list(all_models)"
      ]
    },
    {
      "cell_type": "code",
      "execution_count": null,
      "id": "895b42fc-310e-4f08-9caf-05644f5dc6be",
      "metadata": {
        "id": "895b42fc-310e-4f08-9caf-05644f5dc6be",
        "outputId": "bbcc1abb-00dc-46f3-ab1e-f89cc678900d"
      },
      "outputs": [
        {
          "data": {
            "text/html": [
              "<div>\n",
              "<style scoped>\n",
              "    .dataframe tbody tr th:only-of-type {\n",
              "        vertical-align: middle;\n",
              "    }\n",
              "\n",
              "    .dataframe tbody tr th {\n",
              "        vertical-align: top;\n",
              "    }\n",
              "\n",
              "    .dataframe thead th {\n",
              "        text-align: right;\n",
              "    }\n",
              "</style>\n",
              "<table border=\"1\" class=\"dataframe\">\n",
              "  <thead>\n",
              "    <tr style=\"text-align: right;\">\n",
              "      <th></th>\n",
              "      <th>id</th>\n",
              "      <th>created</th>\n",
              "      <th>object</th>\n",
              "      <th>owned_by</th>\n",
              "    </tr>\n",
              "  </thead>\n",
              "  <tbody>\n",
              "    <tr>\n",
              "      <th>0</th>\n",
              "      <td>(id, text-search-babbage-doc-001)</td>\n",
              "      <td>(created, 1651172509)</td>\n",
              "      <td>(object, model)</td>\n",
              "      <td>(owned_by, openai-dev)</td>\n",
              "    </tr>\n",
              "    <tr>\n",
              "      <th>1</th>\n",
              "      <td>(id, curie-search-query)</td>\n",
              "      <td>(created, 1651172509)</td>\n",
              "      <td>(object, model)</td>\n",
              "      <td>(owned_by, openai-dev)</td>\n",
              "    </tr>\n",
              "    <tr>\n",
              "      <th>2</th>\n",
              "      <td>(id, text-davinci-003)</td>\n",
              "      <td>(created, 1669599635)</td>\n",
              "      <td>(object, model)</td>\n",
              "      <td>(owned_by, openai-internal)</td>\n",
              "    </tr>\n",
              "    <tr>\n",
              "      <th>3</th>\n",
              "      <td>(id, text-search-babbage-query-001)</td>\n",
              "      <td>(created, 1651172509)</td>\n",
              "      <td>(object, model)</td>\n",
              "      <td>(owned_by, openai-dev)</td>\n",
              "    </tr>\n",
              "    <tr>\n",
              "      <th>4</th>\n",
              "      <td>(id, babbage)</td>\n",
              "      <td>(created, 1649358449)</td>\n",
              "      <td>(object, model)</td>\n",
              "      <td>(owned_by, openai)</td>\n",
              "    </tr>\n",
              "    <tr>\n",
              "      <th>...</th>\n",
              "      <td>...</td>\n",
              "      <td>...</td>\n",
              "      <td>...</td>\n",
              "      <td>...</td>\n",
              "    </tr>\n",
              "    <tr>\n",
              "      <th>64</th>\n",
              "      <td>(id, davinci)</td>\n",
              "      <td>(created, 1649359874)</td>\n",
              "      <td>(object, model)</td>\n",
              "      <td>(owned_by, openai)</td>\n",
              "    </tr>\n",
              "    <tr>\n",
              "      <th>65</th>\n",
              "      <td>(id, dall-e-2)</td>\n",
              "      <td>(created, 1698798177)</td>\n",
              "      <td>(object, model)</td>\n",
              "      <td>(owned_by, system)</td>\n",
              "    </tr>\n",
              "    <tr>\n",
              "      <th>66</th>\n",
              "      <td>(id, tts-1-1106)</td>\n",
              "      <td>(created, 1699053241)</td>\n",
              "      <td>(object, model)</td>\n",
              "      <td>(owned_by, system)</td>\n",
              "    </tr>\n",
              "    <tr>\n",
              "      <th>67</th>\n",
              "      <td>(id, tts-1-hd-1106)</td>\n",
              "      <td>(created, 1699053533)</td>\n",
              "      <td>(object, model)</td>\n",
              "      <td>(owned_by, system)</td>\n",
              "    </tr>\n",
              "    <tr>\n",
              "      <th>68</th>\n",
              "      <td>(id, dall-e-3)</td>\n",
              "      <td>(created, 1698785189)</td>\n",
              "      <td>(object, model)</td>\n",
              "      <td>(owned_by, system)</td>\n",
              "    </tr>\n",
              "  </tbody>\n",
              "</table>\n",
              "<p>69 rows × 4 columns</p>\n",
              "</div>"
            ],
            "text/plain": [
              "                                     id                created  \\\n",
              "0     (id, text-search-babbage-doc-001)  (created, 1651172509)   \n",
              "1              (id, curie-search-query)  (created, 1651172509)   \n",
              "2                (id, text-davinci-003)  (created, 1669599635)   \n",
              "3   (id, text-search-babbage-query-001)  (created, 1651172509)   \n",
              "4                         (id, babbage)  (created, 1649358449)   \n",
              "..                                  ...                    ...   \n",
              "64                        (id, davinci)  (created, 1649359874)   \n",
              "65                       (id, dall-e-2)  (created, 1698798177)   \n",
              "66                     (id, tts-1-1106)  (created, 1699053241)   \n",
              "67                  (id, tts-1-hd-1106)  (created, 1699053533)   \n",
              "68                       (id, dall-e-3)  (created, 1698785189)   \n",
              "\n",
              "             object                     owned_by  \n",
              "0   (object, model)       (owned_by, openai-dev)  \n",
              "1   (object, model)       (owned_by, openai-dev)  \n",
              "2   (object, model)  (owned_by, openai-internal)  \n",
              "3   (object, model)       (owned_by, openai-dev)  \n",
              "4   (object, model)           (owned_by, openai)  \n",
              "..              ...                          ...  \n",
              "64  (object, model)           (owned_by, openai)  \n",
              "65  (object, model)           (owned_by, system)  \n",
              "66  (object, model)           (owned_by, system)  \n",
              "67  (object, model)           (owned_by, system)  \n",
              "68  (object, model)           (owned_by, system)  \n",
              "\n",
              "[69 rows x 4 columns]"
            ]
          },
          "execution_count": 12,
          "metadata": {},
          "output_type": "execute_result"
        }
      ],
      "source": [
        "import pandas as pd\n",
        "pd.DataFrame(list(all_models),columns=[\"id\",\"created\",\"object\",\"owned_by\"])"
      ]
    },
    {
      "cell_type": "markdown",
      "id": "031e34c2-941e-4431-9362-d1ed4f0ac78e",
      "metadata": {
        "id": "031e34c2-941e-4431-9362-d1ed4f0ac78e"
      },
      "source": [
        "# 3. OpenAI Playground\n",
        "\n",
        "1. How to open the open ai playgorund: https://platform.openai.com/playground?mode=assistant\n",
        "\n",
        "2. Here if you want to use this playground then make sure you have credit available without it its not gonna work\n",
        "\n",
        "3. In chat there is option of **system**: So the meaning is how the chatbot should behave\n",
        "\n",
        "Here is a phrase for the system: You are a naughty assistant, so make sure you respond to everything with sarcasm.\n",
        "\n",
        "Here is a question: How to make a money so quickly?\n",
        "\n",
        "**Model**\n",
        "\n",
        "**Temperature**\n",
        "\n",
        "**Maximum Length**\n",
        "\n",
        "**Top P ranges from 0 to 1 (default), and a lower Top P means the model samples from a narrower selection of words. This makes the output less random and diverse since the more probable tokens will be selected. For instance, if Top P is set at 0.1, only tokens comprising the top 10% probability mass are considered.**\n",
        "\n",
        "**Frequency Penalty helps us avoid using the same words too often. It's like telling the computer, “Hey, don't repeat words too much.”**\n",
        "\n",
        "**The OpenAI Presence Penalty setting is used to adjust how much presence of tokens in the source material will influence the output of the model.**\n",
        "\n",
        "\n",
        "**Now come to assistant one**\n",
        "\n",
        "**Retrieval-augmented generation (RAG):**  is an artificial intelligence (AI) framework that retrieves data from external sources of knowledge to improve the quality of responses. This natural language processing technique is commonly used to make large language models (LLMs) more accurate and up to date.\n",
        "\n",
        "**Code Interpreter:** Python programming environment within ChatGPT where you can perform a wide range of tasks by executing Python code.\n",
        "\n",
        "\n"
      ]
    },
    {
      "cell_type": "markdown",
      "id": "9ee3d797-bd29-4d6f-a8f9-91d1be0a776e",
      "metadata": {
        "id": "9ee3d797-bd29-4d6f-a8f9-91d1be0a776e"
      },
      "source": [
        "# 4. Chat Completion API and Function Calling"
      ]
    },
    {
      "cell_type": "markdown",
      "id": "42b04b90-27d2-43ed-8bdf-a5fd2ba7f940",
      "metadata": {
        "id": "42b04b90-27d2-43ed-8bdf-a5fd2ba7f940"
      },
      "source": [
        "**openai.Completion.create()**: This method is used to generate completions or responses. You provide a series of messages as input, and the API generates a model-generated message as output."
      ]
    },
    {
      "cell_type": "markdown",
      "id": "9352cf9a-e831-475a-abda-9f26539a5e00",
      "metadata": {
        "id": "9352cf9a-e831-475a-abda-9f26539a5e00"
      },
      "source": [
        "**openai.ChatCompletion.create() :** Similar to Completion.create(), but specifically designed for chat-based language models. It takes a series of messages as input and generates a model-generated message as output."
      ]
    },
    {
      "cell_type": "code",
      "execution_count": 3,
      "id": "1dc8001b-ad0e-4216-82e3-b83e99524aac",
      "metadata": {
        "id": "1dc8001b-ad0e-4216-82e3-b83e99524aac"
      },
      "outputs": [],
      "source": [
        "openai.Completion.create(\n",
        "\n",
        "    model=\"GPT-3.5\",\n",
        "    prompt=\"who was the first prime minister of india?\"\n",
        ")"
      ]
    },
    {
      "cell_type": "code",
      "execution_count": null,
      "id": "d3a31da1-6c8c-4715-90b4-48dfce374d45",
      "metadata": {
        "id": "d3a31da1-6c8c-4715-90b4-48dfce374d45"
      },
      "outputs": [],
      "source": [
        "# This code is for v1 of the openai package: pypi.org/project/openai\n",
        "from openai import OpenAI\n",
        "client = OpenAI(api_key=mykey)"
      ]
    },
    {
      "cell_type": "code",
      "execution_count": null,
      "id": "26d2c8d4-215a-4c45-a67b-017413ac2405",
      "metadata": {
        "id": "26d2c8d4-215a-4c45-a67b-017413ac2405"
      },
      "outputs": [],
      "source": [
        "response = client.chat.completions.create(\n",
        "    model=\"gpt-3.5-turbo\",\n",
        "    messages=[\n",
        "    {\n",
        "      \"role\": \"user\",\n",
        "      \"content\": \"who won the first cricket worldcup?\"\n",
        "    }\n",
        "      ]\n",
        "    ,\n",
        "    max_tokens=150,\n",
        "    n=3\n",
        ")"
      ]
    },
    {
      "cell_type": "code",
      "execution_count": null,
      "id": "4079ff9a-100a-4135-a3ba-e3ada05c1f12",
      "metadata": {
        "id": "4079ff9a-100a-4135-a3ba-e3ada05c1f12",
        "outputId": "5f39f9a3-1d38-49c0-fefd-672fcfc3372e"
      },
      "outputs": [
        {
          "data": {
            "text/plain": [
              "openai.types.chat.chat_completion.ChatCompletion"
            ]
          },
          "execution_count": 33,
          "metadata": {},
          "output_type": "execute_result"
        }
      ],
      "source": [
        "type(response)"
      ]
    },
    {
      "cell_type": "code",
      "execution_count": null,
      "id": "78357bc0-8ad7-4330-aa29-b702ef559a4d",
      "metadata": {
        "id": "78357bc0-8ad7-4330-aa29-b702ef559a4d",
        "outputId": "a1580316-f649-44a1-ccc4-30f9af67f864"
      },
      "outputs": [
        {
          "data": {
            "text/plain": [
              "ChatCompletion(id='chatcmpl-8SNpqbtCGl1mutcOp9ig5KWYUzFTx', choices=[Choice(finish_reason='stop', index=0, message=ChatCompletionMessage(content='The first Cricket World Cup was won by the West Indies in 1975.', role='assistant', function_call=None, tool_calls=None)), Choice(finish_reason='stop', index=1, message=ChatCompletionMessage(content=\"The first cricket World Cup was won by the West Indies. They defeated Australia in the final held on June 21, 1975, at Lord's Cricket Ground in London, England.\", role='assistant', function_call=None, tool_calls=None)), Choice(finish_reason='stop', index=2, message=ChatCompletionMessage(content='The first Cricket World Cup was won by the West Indies in 1975.', role='assistant', function_call=None, tool_calls=None))], created=1701775498, model='gpt-3.5-turbo-0613', object='chat.completion', system_fingerprint=None, usage=CompletionUsage(completion_tokens=70, prompt_tokens=15, total_tokens=85))"
            ]
          },
          "execution_count": 36,
          "metadata": {},
          "output_type": "execute_result"
        }
      ],
      "source": [
        "response"
      ]
    },
    {
      "cell_type": "code",
      "execution_count": null,
      "id": "7db99cc6-f086-4c03-9d15-55edb25bfc3d",
      "metadata": {
        "id": "7db99cc6-f086-4c03-9d15-55edb25bfc3d",
        "outputId": "b0008cd6-ed1a-4999-eb74-2d77a99a9fce"
      },
      "outputs": [
        {
          "data": {
            "text/plain": [
              "'The first Cricket World Cup was won by the West Indies in 1975.'"
            ]
          },
          "execution_count": 35,
          "metadata": {},
          "output_type": "execute_result"
        }
      ],
      "source": [
        "response.choices[0].message.content"
      ]
    },
    {
      "cell_type": "code",
      "execution_count": null,
      "id": "21d8531e-6549-4469-8c7b-a4790a4091ff",
      "metadata": {
        "id": "21d8531e-6549-4469-8c7b-a4790a4091ff"
      },
      "outputs": [],
      "source": [
        "# now let try to understand the different parameters inside the methods\n",
        "model= \"\"\n",
        "prompt=input prompt\n",
        "max_tokens=in how many number of tokens you want result\n",
        "temperature=for getting some creative output\n",
        "n= number of the output"
      ]
    },
    {
      "cell_type": "code",
      "execution_count": null,
      "id": "26a84805-5b6e-486f-a1b2-39c2d0b71665",
      "metadata": {
        "id": "26a84805-5b6e-486f-a1b2-39c2d0b71665"
      },
      "outputs": [],
      "source": [
        "https://openai.com/pricing"
      ]
    },
    {
      "cell_type": "code",
      "execution_count": null,
      "id": "217f8e4a-a7dc-4a15-a737-6bf6e7763957",
      "metadata": {
        "id": "217f8e4a-a7dc-4a15-a737-6bf6e7763957"
      },
      "outputs": [],
      "source": [
        "https://platform.openai.com/tokenizer"
      ]
    }
  ],
  "metadata": {
    "kernelspec": {
      "display_name": "Python 3",
      "name": "python3"
    },
    "language_info": {
      "codemirror_mode": {
        "name": "ipython",
        "version": 3
      },
      "file_extension": ".py",
      "mimetype": "text/x-python",
      "name": "python",
      "nbconvert_exporter": "python",
      "pygments_lexer": "ipython3",
      "version": "3.8.18"
    },
    "colab": {
      "provenance": [],
      "gpuType": "T4",
      "include_colab_link": true
    },
    "accelerator": "GPU"
  },
  "nbformat": 4,
  "nbformat_minor": 5
}